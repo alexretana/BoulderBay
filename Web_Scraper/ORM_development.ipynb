{
 "cells": [
  {
   "cell_type": "code",
   "execution_count": 1,
   "id": "0bf15d4c",
   "metadata": {},
   "outputs": [],
   "source": [
    "from sqlalchemy import create_engine\n",
    "from key import DB_USER, DB_PASSWORD, DB_ENDPOINT"
   ]
  },
  {
   "cell_type": "code",
   "execution_count": 84,
   "id": "1f24ae36",
   "metadata": {},
   "outputs": [],
   "source": [
    "#assign import secret values to varibles\n",
    "user = DB_USER\n",
    "pwd = DB_PASSWORD\n",
    "endpoint = DB_ENDPOINT\n",
    "\n",
    "#create url for engin\n",
    "dialect = f\"mysql+pymysql://{user}:{pwd}@{endpoint}\"\n",
    "\n",
    "#create engin\n",
    "engine = create_engine(dialect, echo = True, future=True)"
   ]
  },
  {
   "cell_type": "code",
   "execution_count": 6,
   "id": "02b8d9c7",
   "metadata": {},
   "outputs": [
    {
     "name": "stdout",
     "output_type": "stream",
     "text": [
      "2021-05-07 09:04:23,861 INFO sqlalchemy.engine.Engine BEGIN (implicit)\n",
      "2021-05-07 09:04:23,862 INFO sqlalchemy.engine.Engine select 'hello world'\n",
      "2021-05-07 09:04:23,863 INFO sqlalchemy.engine.Engine [generated in 0.00239s] {}\n",
      "[('hello world',)]\n",
      "2021-05-07 09:04:23,893 INFO sqlalchemy.engine.Engine ROLLBACK\n"
     ]
    }
   ],
   "source": [
    "from sqlalchemy import text\n",
    "\n",
    "with engine.connect() as conn:\n",
    "    result = conn.execute(text(\"select 'hello world'\"))\n",
    "    print(result.all())"
   ]
  },
  {
   "cell_type": "code",
   "execution_count": 10,
   "id": "01391b48",
   "metadata": {},
   "outputs": [
    {
     "name": "stdout",
     "output_type": "stream",
     "text": [
      "2021-05-07 09:28:49,381 INFO sqlalchemy.engine.Engine BEGIN (implicit)\n",
      "2021-05-07 09:28:49,382 INFO sqlalchemy.engine.Engine USE RockClimbingGyms\n",
      "2021-05-07 09:28:49,383 INFO sqlalchemy.engine.Engine [generated in 0.00165s] {}\n",
      "2021-05-07 09:28:49,416 INFO sqlalchemy.engine.Engine COMMIT\n"
     ]
    }
   ],
   "source": [
    "with engine.connect() as conn:\n",
    "    conn.execute(\n",
    "        text(\"USE RockClimbingGyms\")\n",
    "    )\n",
    "    conn.commit()\n",
    "    "
   ]
  },
  {
   "cell_type": "code",
   "execution_count": 11,
   "id": "0dcf36d8",
   "metadata": {},
   "outputs": [
    {
     "name": "stdout",
     "output_type": "stream",
     "text": [
      "2021-05-07 09:28:56,666 INFO sqlalchemy.engine.Engine BEGIN (implicit)\n",
      "2021-05-07 09:28:56,667 INFO sqlalchemy.engine.Engine CREATE TABLE some_table (x int, y int)\n",
      "2021-05-07 09:28:56,667 INFO sqlalchemy.engine.Engine [cached since 250s ago] {}\n",
      "2021-05-07 09:28:56,805 INFO sqlalchemy.engine.Engine INSERT INTO some_table (x, y) VALUES (%(x)s, %(y)s)\n",
      "2021-05-07 09:28:56,806 INFO sqlalchemy.engine.Engine [generated in 0.00078s] ({'x': 1, 'y': 1}, {'x': 2, 'y': 4})\n",
      "2021-05-07 09:28:56,839 INFO sqlalchemy.engine.Engine COMMIT\n"
     ]
    }
   ],
   "source": [
    "with engine.connect() as conn:\n",
    "    conn.execute(\n",
    "        text(\"CREATE TABLE some_table (x int, y int)\")\n",
    "    )\n",
    "    conn.execute(\n",
    "        text(\"INSERT INTO some_table (x, y) VALUES (:x, :y)\"),\n",
    "             [{\"x\": 1, \"y\": 1}, {\"x\": 2, \"y\": 4}]\n",
    "    )\n",
    "    conn.commit()"
   ]
  },
  {
   "cell_type": "code",
   "execution_count": 12,
   "id": "d1b39728",
   "metadata": {},
   "outputs": [
    {
     "name": "stdout",
     "output_type": "stream",
     "text": [
      "2021-05-07 09:36:34,620 INFO sqlalchemy.engine.Engine BEGIN (implicit)\n",
      "2021-05-07 09:36:34,621 INFO sqlalchemy.engine.Engine INSERT INTO some_table (x, y) VALUES (%(x)s, %(y)s)\n",
      "2021-05-07 09:36:34,622 INFO sqlalchemy.engine.Engine [cached since 457.8s ago] ({'x': 6, 'y': 8}, {'x': 9, 'y': 10})\n",
      "2021-05-07 09:36:34,652 INFO sqlalchemy.engine.Engine COMMIT\n"
     ]
    }
   ],
   "source": [
    "with engine.begin() as conn:\n",
    "    conn.execute(\n",
    "        text(\"INSERT INTO some_table (x, y) VALUES (:x, :y)\"),\n",
    "             [{\"x\": 6, \"y\": 8}, {\"x\": 9, \"y\": 10}]\n",
    "    )"
   ]
  },
  {
   "cell_type": "code",
   "execution_count": 15,
   "id": "b63a1eb6",
   "metadata": {},
   "outputs": [
    {
     "name": "stdout",
     "output_type": "stream",
     "text": [
      "2021-05-07 11:30:15,788 INFO sqlalchemy.engine.Engine BEGIN (implicit)\n",
      "2021-05-07 11:30:15,790 INFO sqlalchemy.engine.Engine UPDATE some_table SET y=%(y)s WHERE x=%(x)s\n",
      "2021-05-07 11:30:15,791 INFO sqlalchemy.engine.Engine [generated in 0.00105s] {'y': 11, 'x': 9}\n",
      "2021-05-07 11:30:15,823 INFO sqlalchemy.engine.Engine COMMIT\n"
     ]
    }
   ],
   "source": [
    "from sqlalchemy.orm import Session\n",
    "\n",
    "stmp = text(\"UPDATE some_table SET y=:y WHERE x=:x\").bindparams(x=9, y=11)\n",
    "with Session(engine) as session:\n",
    "    results = session.execute(stmp)\n",
    "    session.commit()"
   ]
  },
  {
   "cell_type": "code",
   "execution_count": 46,
   "id": "74110157",
   "metadata": {},
   "outputs": [],
   "source": [
    "from sqlalchemy import MetaData, Table, Column, Integer, String\n",
    "\n",
    "metadata = MetaData()\n",
    "user_table = Table(\n",
    "    \"user_account\",\n",
    "    metadata,\n",
    "    Column('id', Integer, primary_key=True),\n",
    "    Column('name', String(30)),\n",
    "    Column('fullname', String(80))\n",
    ")"
   ]
  },
  {
   "cell_type": "code",
   "execution_count": 47,
   "id": "8c482150",
   "metadata": {},
   "outputs": [
    {
     "data": {
      "text/plain": [
       "PrimaryKeyConstraint(Column('id', Integer(), table=<user_account>, primary_key=True, nullable=False))"
      ]
     },
     "execution_count": 47,
     "metadata": {},
     "output_type": "execute_result"
    }
   ],
   "source": [
    "user_table.primary_key"
   ]
  },
  {
   "cell_type": "code",
   "execution_count": 48,
   "id": "c8be8d3b",
   "metadata": {},
   "outputs": [],
   "source": [
    "from sqlalchemy import ForeignKey\n",
    "\n",
    "address_table = Table(\n",
    "    \"address\",\n",
    "    metadata,\n",
    "    Column('id', Integer, primary_key=True),\n",
    "    Column('user_id', ForeignKey('user_account.id'), nullable=False),\n",
    "    Column('email_address', String(80), nullable=False)\n",
    ")"
   ]
  },
  {
   "cell_type": "code",
   "execution_count": 49,
   "id": "26fdbb56",
   "metadata": {},
   "outputs": [
    {
     "name": "stdout",
     "output_type": "stream",
     "text": [
      "2021-05-07 15:16:50,062 INFO sqlalchemy.engine.Engine BEGIN (implicit)\n",
      "2021-05-07 15:16:50,063 INFO sqlalchemy.engine.Engine SELECT COUNT(*) FROM information_schema.tables WHERE table_schema = %(table_schema)s AND table_name = %(table_name)s\n",
      "2021-05-07 15:16:50,064 INFO sqlalchemy.engine.Engine [cached since 265.3s ago] {'table_schema': 'None', 'table_name': 'user_account'}\n",
      "2021-05-07 15:16:50,093 INFO sqlalchemy.engine.Engine SELECT COUNT(*) FROM information_schema.tables WHERE table_schema = %(table_schema)s AND table_name = %(table_name)s\n",
      "2021-05-07 15:16:50,094 INFO sqlalchemy.engine.Engine [cached since 265.3s ago] {'table_schema': 'None', 'table_name': 'address'}\n",
      "2021-05-07 15:16:50,126 INFO sqlalchemy.engine.Engine \n",
      "CREATE TABLE user_account (\n",
      "\tid INTEGER NOT NULL AUTO_INCREMENT, \n",
      "\tname VARCHAR(30), \n",
      "\tfullname VARCHAR(80), \n",
      "\tPRIMARY KEY (id)\n",
      ")\n",
      "\n",
      "\n",
      "2021-05-07 15:16:50,127 INFO sqlalchemy.engine.Engine [no key 0.00072s] {}\n",
      "2021-05-07 15:16:50,178 INFO sqlalchemy.engine.Engine \n",
      "CREATE TABLE address (\n",
      "\tid INTEGER NOT NULL AUTO_INCREMENT, \n",
      "\tuser_id INTEGER NOT NULL, \n",
      "\temail_address VARCHAR(80) NOT NULL, \n",
      "\tPRIMARY KEY (id), \n",
      "\tFOREIGN KEY(user_id) REFERENCES user_account (id)\n",
      ")\n",
      "\n",
      "\n",
      "2021-05-07 15:16:50,179 INFO sqlalchemy.engine.Engine [no key 0.00106s] {}\n",
      "2021-05-07 15:16:50,238 INFO sqlalchemy.engine.Engine COMMIT\n"
     ]
    }
   ],
   "source": [
    "metadata.create_all(engine)"
   ]
  },
  {
   "cell_type": "code",
   "execution_count": 51,
   "id": "e53cc3dd",
   "metadata": {},
   "outputs": [],
   "source": [
    "from sqlalchemy.orm import registry\n",
    "\n",
    "mapper_registry = registry()\n",
    "mapper_registry.metadata\n",
    "\n",
    "Base = mapper_registry.generate_base()"
   ]
  },
  {
   "cell_type": "code",
   "execution_count": 53,
   "id": "009ba16d",
   "metadata": {},
   "outputs": [],
   "source": [
    "from sqlalchemy.orm import relationship\n",
    "\n",
    "class User(Base):\n",
    "    __table__ = user_table\n",
    "\n",
    "    addresses = relationship(\"Address\", back_populates=\"user\")\n",
    "\n",
    "    def __repr__(self):\n",
    "        return f\"User({self.name!r}, {self.fullname!r})\"\n",
    "\n",
    "class Address(Base):\n",
    "    __table__ = address_table\n",
    "\n",
    "    user = relationship(\"User\", back_populates=\"addresses\")\n",
    "\n",
    "    def __repr__(self):\n",
    "        return f\"Address({self.email_address!r})\"\n"
   ]
  },
  {
   "cell_type": "code",
   "execution_count": 60,
   "id": "96fec4a9",
   "metadata": {},
   "outputs": [
    {
     "name": "stdout",
     "output_type": "stream",
     "text": [
      "2021-05-09 14:34:47,377 INFO sqlalchemy.engine.Engine BEGIN (implicit)\n",
      "2021-05-09 14:34:47,378 INFO sqlalchemy.engine.Engine SHOW CREATE TABLE `some_table`\n",
      "2021-05-09 14:34:47,380 INFO sqlalchemy.engine.Engine [raw sql] {}\n",
      "2021-05-09 14:34:47,432 INFO sqlalchemy.engine.Engine ROLLBACK\n"
     ]
    }
   ],
   "source": [
    "some_table = Table(\"some_table\", metadata, autoload_with=engine)"
   ]
  },
  {
   "cell_type": "code",
   "execution_count": 65,
   "id": "e0b263ed",
   "metadata": {},
   "outputs": [
    {
     "name": "stdout",
     "output_type": "stream",
     "text": [
      "{'name': 'spongebob', 'fullname': 'spongebob squrepants'}\n",
      "2021-05-09 17:43:35,622 INFO sqlalchemy.engine.Engine BEGIN (implicit)\n",
      "2021-05-09 17:43:35,624 INFO sqlalchemy.engine.Engine INSERT INTO user_account (name, fullname) VALUES (%(name)s, %(fullname)s)\n",
      "2021-05-09 17:43:35,627 INFO sqlalchemy.engine.Engine [cached since 46.37s ago] {'name': 'spongebob', 'fullname': 'spongebob squrepants'}\n",
      "2021-05-09 17:43:35,680 INFO sqlalchemy.engine.Engine COMMIT\n",
      "(1,)\n"
     ]
    }
   ],
   "source": [
    "from sqlalchemy import insert\n",
    "stmt = insert(user_table).values(name='spongebob', fullname='spongebob squrepants')\n",
    "compiled = stmt.compile()\n",
    "print(compiled.params)\n",
    "\n",
    "with engine.connect() as conn:\n",
    "    result = conn.execute(stmt)\n",
    "    conn.commit()\n",
    "    print(result.inserted_primary_key)\n",
    "    "
   ]
  },
  {
   "cell_type": "code",
   "execution_count": 67,
   "id": "f17784b3",
   "metadata": {},
   "outputs": [
    {
     "name": "stdout",
     "output_type": "stream",
     "text": [
      "SELECT user_account.id, user_account.name, user_account.fullname \n",
      "FROM user_account \n",
      "WHERE user_account.name = :name_1\n"
     ]
    }
   ],
   "source": [
    "from sqlalchemy import select\n",
    "\n",
    "stmt = select(user_table).where(user_table.c.name == 'spongebob')\n",
    "print(stmt)"
   ]
  },
  {
   "cell_type": "code",
   "execution_count": 74,
   "id": "b8074f43",
   "metadata": {},
   "outputs": [
    {
     "name": "stdout",
     "output_type": "stream",
     "text": [
      "2021-05-09 18:23:28,814 INFO sqlalchemy.engine.Engine BEGIN (implicit)\n",
      "2021-05-09 18:23:28,816 INFO sqlalchemy.engine.Engine SELECT user_account.id, user_account.name, user_account.fullname \n",
      "FROM user_account \n",
      "WHERE user_account.name = %(name_1)s\n",
      "2021-05-09 18:23:28,819 INFO sqlalchemy.engine.Engine [generated in 0.00488s] {'name_1': 'spongebob'}\n",
      "(1, 'spongebob', 'spongebob squrepants')\n",
      "2021-05-09 18:23:28,862 INFO sqlalchemy.engine.Engine ROLLBACK\n"
     ]
    }
   ],
   "source": [
    "with engine.connect() as conn:\n",
    "    for row in conn.execute(stmt):\n",
    "        print(row)"
   ]
  },
  {
   "cell_type": "code",
   "execution_count": 75,
   "id": "5d6d357e",
   "metadata": {},
   "outputs": [
    {
     "name": "stdout",
     "output_type": "stream",
     "text": [
      "2021-05-09 18:28:20,226 INFO sqlalchemy.engine.Engine BEGIN (implicit)\n",
      "2021-05-09 18:28:20,249 INFO sqlalchemy.engine.Engine SELECT user_account.id, user_account.name, user_account.fullname \n",
      "FROM user_account \n",
      "WHERE user_account.name = %(name_1)s\n",
      "2021-05-09 18:28:20,252 INFO sqlalchemy.engine.Engine [generated in 0.00288s] {'name_1': 'spongebob'}\n",
      "(User('spongebob', 'spongebob squrepants'),)\n",
      "2021-05-09 18:28:20,300 INFO sqlalchemy.engine.Engine ROLLBACK\n"
     ]
    }
   ],
   "source": [
    "stmt = select(User).where(User.name == 'spongebob')\n",
    "\n",
    "with Session(engine) as session:\n",
    "    for row in session.execute(stmt):\n",
    "        print(row)"
   ]
  },
  {
   "cell_type": "code",
   "execution_count": 86,
   "id": "8cd4fa47",
   "metadata": {},
   "outputs": [],
   "source": [
    "session = Session(engine)"
   ]
  },
  {
   "cell_type": "code",
   "execution_count": 87,
   "id": "dcd576c6",
   "metadata": {},
   "outputs": [],
   "source": [
    "squidward = User(name='squidward', fullname='squidward tentacles')\n",
    "krabs = User(name='krabs', fullname='Eugene H. Krabs')"
   ]
  },
  {
   "cell_type": "code",
   "execution_count": 88,
   "id": "b84c6b6c",
   "metadata": {},
   "outputs": [],
   "source": [
    "session.add(squidward)"
   ]
  },
  {
   "cell_type": "code",
   "execution_count": 89,
   "id": "58fc3623",
   "metadata": {},
   "outputs": [
    {
     "data": {
      "text/plain": [
       "IdentitySet([User('squidward', 'squidward tentacles')])"
      ]
     },
     "execution_count": 89,
     "metadata": {},
     "output_type": "execute_result"
    }
   ],
   "source": [
    "session.new"
   ]
  },
  {
   "cell_type": "code",
   "execution_count": 90,
   "id": "7c33e40b",
   "metadata": {},
   "outputs": [],
   "source": [
    "session.add(krabs)"
   ]
  },
  {
   "cell_type": "code",
   "execution_count": 91,
   "id": "1577a881",
   "metadata": {},
   "outputs": [
    {
     "data": {
      "text/plain": [
       "IdentitySet([User('squidward', 'squidward tentacles'), User('krabs', 'Eugene H. Krabs')])"
      ]
     },
     "execution_count": 91,
     "metadata": {},
     "output_type": "execute_result"
    }
   ],
   "source": [
    "session.new"
   ]
  },
  {
   "cell_type": "code",
   "execution_count": 92,
   "id": "34b29c67",
   "metadata": {},
   "outputs": [
    {
     "name": "stdout",
     "output_type": "stream",
     "text": [
      "2021-05-09 19:42:42,745 INFO sqlalchemy.engine.Engine BEGIN (implicit)\n",
      "2021-05-09 19:42:42,749 INFO sqlalchemy.engine.Engine INSERT INTO user_account (name, fullname) VALUES (%(name)s, %(fullname)s)\n",
      "2021-05-09 19:42:42,751 INFO sqlalchemy.engine.Engine [generated in 0.00211s] {'name': 'squidward', 'fullname': 'squidward tentacles'}\n",
      "2021-05-09 19:42:42,796 INFO sqlalchemy.engine.Engine INSERT INTO user_account (name, fullname) VALUES (%(name)s, %(fullname)s)\n",
      "2021-05-09 19:42:42,798 INFO sqlalchemy.engine.Engine [cached since 0.04874s ago] {'name': 'krabs', 'fullname': 'Eugene H. Krabs'}\n"
     ]
    }
   ],
   "source": [
    "session.flush()"
   ]
  },
  {
   "cell_type": "code",
   "execution_count": 93,
   "id": "5d9ef774",
   "metadata": {},
   "outputs": [
    {
     "data": {
      "text/plain": [
       "4"
      ]
     },
     "execution_count": 93,
     "metadata": {},
     "output_type": "execute_result"
    }
   ],
   "source": [
    "squidward.id"
   ]
  },
  {
   "cell_type": "code",
   "execution_count": 94,
   "id": "ee4cb224",
   "metadata": {},
   "outputs": [
    {
     "name": "stdout",
     "output_type": "stream",
     "text": [
      "2021-05-09 19:44:48,314 INFO sqlalchemy.engine.Engine COMMIT\n"
     ]
    }
   ],
   "source": [
    "session.commit()"
   ]
  },
  {
   "cell_type": "code",
   "execution_count": null,
   "id": "0f0935b8",
   "metadata": {},
   "outputs": [],
   "source": []
  }
 ],
 "metadata": {
  "kernelspec": {
   "display_name": "Python 3",
   "language": "python",
   "name": "python3"
  },
  "language_info": {
   "codemirror_mode": {
    "name": "ipython",
    "version": 3
   },
   "file_extension": ".py",
   "mimetype": "text/x-python",
   "name": "python",
   "nbconvert_exporter": "python",
   "pygments_lexer": "ipython3",
   "version": "3.8.8"
  }
 },
 "nbformat": 4,
 "nbformat_minor": 5
}
