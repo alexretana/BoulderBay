{
 "cells": [
  {
   "cell_type": "code",
   "execution_count": 1,
   "id": "0bf15d4c",
   "metadata": {},
   "outputs": [],
   "source": [
    "from sqlalchemy import create_engine\n",
    "from key import DB_USER, DB_PASSWORD, DB_ENDPOINT"
   ]
  },
  {
   "cell_type": "code",
   "execution_count": 2,
   "id": "1f24ae36",
   "metadata": {},
   "outputs": [],
   "source": [
    "user = DB_USER\n",
    "pwd = DB_PASSWORD\n",
    "endpoint = DB_ENDPOINT\n",
    "\n",
    "dialect = f\"mysql+pymysql://{user}:{pwd}@{endpoint}\"\n",
    "\n",
    "engine = create_engine(dialect, echo = True, future=True)"
   ]
  },
  {
   "cell_type": "code",
   "execution_count": null,
   "id": "02b8d9c7",
   "metadata": {},
   "outputs": [],
   "source": []
  }
 ],
 "metadata": {
  "kernelspec": {
   "display_name": "Python 3",
   "language": "python",
   "name": "python3"
  },
  "language_info": {
   "codemirror_mode": {
    "name": "ipython",
    "version": 3
   },
   "file_extension": ".py",
   "mimetype": "text/x-python",
   "name": "python",
   "nbconvert_exporter": "python",
   "pygments_lexer": "ipython3",
   "version": "3.8.8"
  }
 },
 "nbformat": 4,
 "nbformat_minor": 5
}
