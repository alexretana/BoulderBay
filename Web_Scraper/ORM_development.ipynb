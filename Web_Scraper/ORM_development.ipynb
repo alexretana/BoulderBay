{
 "cells": [
  {
   "cell_type": "code",
   "execution_count": 2,
   "id": "0bf15d4c",
   "metadata": {},
   "outputs": [],
   "source": [
    "from sqlalchemy import create_engine\n",
    "from key import DB_USER, DB_PASSWORD, DB_ENDPOINT"
   ]
  },
  {
   "cell_type": "code",
   "execution_count": 93,
   "id": "1f24ae36",
   "metadata": {},
   "outputs": [],
   "source": [
    "#assign import secret values to varibles\n",
    "user = DB_USER\n",
    "pwd = DB_PASSWORD\n",
    "endpoint = DB_ENDPOINT\n",
    "\n",
    "#create url for engin\n",
    "dialect = f\"mysql+pymysql://{user}:{pwd}@{endpoint}/boulderinggyms\"\n",
    "\n",
    "#create engin\n",
    "engine = create_engine(dialect, echo = True, future=True)"
   ]
  },
  {
   "cell_type": "code",
   "execution_count": 117,
   "id": "0f0935b8",
   "metadata": {},
   "outputs": [],
   "source": [
    "from sqlalchemy import Table, Column, ForeignKey, text\n",
    "from sqlalchemy.dialects.mysql import BIGINT, VARCHAR, DECIMAL, TIMESTAMP\n",
    "from sqlalchemy.orm import declarative_base, relationship, Session\n",
    "\n",
    "Base = declarative_base()\n",
    "metadata = Base.metadata"
   ]
  },
  {
   "cell_type": "code",
   "execution_count": 118,
   "id": "cc77bebb",
   "metadata": {},
   "outputs": [
    {
     "data": {
      "text/plain": [
       "Table('gyms', MetaData(), Column('gymID', BIGINT(unsigned=True), table=<gyms>, primary_key=True, nullable=False), Column('gymName', VARCHAR(length=80), table=<gyms>, nullable=False), Column('gymNameFromGoogle', VARCHAR(length=80), table=<gyms>), Column('gymAddress', VARCHAR(length=100), table=<gyms>), Column('locLatitude', DECIMAL(precision=8, scale=6), table=<gyms>), Column('locLongitude', DECIMAL(precision=8, scale=6), table=<gyms>), Column('ratingFromMP', DECIMAL(precision=8, scale=6), table=<gyms>), Column('googlePlaceID', VARCHAR(length=255), table=<gyms>), Column('lastUpdated', TIMESTAMP(), table=<gyms>, nullable=False, server_default=DefaultClause(<sqlalchemy.sql.elements.TextClause object at 0x0000019AE9E25B20>, for_update=False)), schema=None)"
      ]
     },
     "execution_count": 118,
     "metadata": {},
     "output_type": "execute_result"
    }
   ],
   "source": [
    "gyms_table = Table(\n",
    "    \"gyms\",\n",
    "    metadata,\n",
    "    Column('gymID', BIGINT(unsigned=True), primary_key=True, autoincrement=True),\n",
    "    Column('gymName', VARCHAR(80), nullable=False),\n",
    "    Column('gymNameFromGoogle', VARCHAR(80)),\n",
    "    Column('gymAddress', VARCHAR(100)),\n",
    "    Column('locLatitude', DECIMAL(8,6)),\n",
    "    Column('locLongitude', DECIMAL(8,6)),\n",
    "    Column('ratingFromMP', DECIMAL(8,6)),\n",
    "    Column('googlePlaceID', VARCHAR(255)),\n",
    "    Column('lastUpdated', TIMESTAMP, nullable=False, server_default=text(\"CURRENT_TIMESTAMP ON UPDATE CURRENT_TIMESTAMP\"))\n",
    ")\n",
    "gyms_table"
   ]
  },
  {
   "cell_type": "code",
   "execution_count": 119,
   "id": "3a90ea06",
   "metadata": {},
   "outputs": [
    {
     "data": {
      "text/plain": [
       "Table('photos', MetaData(), Column('photoID', BIGINT(unsigned=True), table=<photos>, primary_key=True, nullable=False), Column('gymID', BIGINT(unsigned=True), ForeignKey('gyms.gymID'), table=<photos>, nullable=False), Column('photoGoogleReference', VARCHAR(length=255), table=<photos>), Column('photoURL', VARCHAR(length=160), table=<photos>), Column('lastUpdated', TIMESTAMP(), table=<photos>, nullable=False, server_default=DefaultClause(<sqlalchemy.sql.elements.TextClause object at 0x0000019AE9D9F880>, for_update=False)), schema=None)"
      ]
     },
     "execution_count": 119,
     "metadata": {},
     "output_type": "execute_result"
    }
   ],
   "source": [
    "photos_table = Table(\n",
    "    \"photos\",\n",
    "    metadata,\n",
    "    Column('photoID', BIGINT(unsigned=True), primary_key=True, autoincrement=True),\n",
    "    Column('gymID', BIGINT(unsigned=True), ForeignKey('gyms.gymID'), nullable=False),\n",
    "    Column('photoGoogleReference', VARCHAR(255)),\n",
    "    Column('photoURL', VARCHAR(160)),\n",
    "    Column('lastUpdated', TIMESTAMP, nullable=False, server_default=text(\"CURRENT_TIMESTAMP ON UPDATE CURRENT_TIMESTAMP\"))\n",
    ")\n",
    "\n",
    "photo_table"
   ]
  },
  {
   "cell_type": "code",
   "execution_count": 115,
   "id": "6a8a99a7",
   "metadata": {},
   "outputs": [
    {
     "name": "stdout",
     "output_type": "stream",
     "text": [
      "2021-05-11 10:00:49,867 INFO sqlalchemy.engine.Engine SHOW VARIABLES LIKE 'sql_mode'\n",
      "2021-05-11 10:00:49,869 INFO sqlalchemy.engine.Engine [raw sql] {}\n",
      "2021-05-11 10:00:49,906 INFO sqlalchemy.engine.Engine SHOW VARIABLES LIKE 'lower_case_table_names'\n",
      "2021-05-11 10:00:49,908 INFO sqlalchemy.engine.Engine [generated in 0.00173s] {}\n",
      "2021-05-11 10:00:49,972 INFO sqlalchemy.engine.Engine SELECT DATABASE()\n",
      "2021-05-11 10:00:49,973 INFO sqlalchemy.engine.Engine [raw sql] {}\n",
      "2021-05-11 10:00:50,067 INFO sqlalchemy.engine.Engine BEGIN (implicit)\n",
      "2021-05-11 10:00:50,071 INFO sqlalchemy.engine.Engine SELECT COUNT(*) FROM information_schema.tables WHERE table_schema = %(table_schema)s AND table_name = %(table_name)s\n",
      "2021-05-11 10:00:50,072 INFO sqlalchemy.engine.Engine [generated in 0.00183s] {'table_schema': 'boulderinggyms', 'table_name': 'gyms'}\n",
      "2021-05-11 10:00:50,109 INFO sqlalchemy.engine.Engine SELECT COUNT(*) FROM information_schema.tables WHERE table_schema = %(table_schema)s AND table_name = %(table_name)s\n",
      "2021-05-11 10:00:50,111 INFO sqlalchemy.engine.Engine [cached since 0.0405s ago] {'table_schema': 'boulderinggyms', 'table_name': 'photos'}\n",
      "2021-05-11 10:00:50,148 INFO sqlalchemy.engine.Engine \n",
      "CREATE TABLE gyms (\n",
      "\t`gymID` BIGINT UNSIGNED NOT NULL AUTO_INCREMENT, \n",
      "\t`gymName` VARCHAR(80) NOT NULL, \n",
      "\t`gymNameFromGoogle` VARCHAR(80), \n",
      "\t`gymAddress` VARCHAR(100), \n",
      "\t`locLatitude` DECIMAL(8, 6), \n",
      "\t`locLongitude` DECIMAL(8, 6), \n",
      "\t`ratingFromMP` DECIMAL(8, 6), \n",
      "\t`googlePlaceID` VARCHAR(255), \n",
      "\t`lastUpdated` TIMESTAMP NOT NULL DEFAULT CURRENT_TIMESTAMP ON UPDATE CURRENT_TIMESTAMP, \n",
      "\tPRIMARY KEY (`gymID`)\n",
      ")\n",
      "\n",
      "\n",
      "2021-05-11 10:00:50,150 INFO sqlalchemy.engine.Engine [no key 0.00141s] {}\n",
      "2021-05-11 10:00:50,239 INFO sqlalchemy.engine.Engine \n",
      "CREATE TABLE photos (\n",
      "\t`photoID` BIGINT UNSIGNED NOT NULL AUTO_INCREMENT, \n",
      "\t`gymID` BIGINT UNSIGNED NOT NULL, \n",
      "\t`photoGoogleReference` VARCHAR(255), \n",
      "\t`photoURL` VARCHAR(160), \n",
      "\t`lastUpdated` TIMESTAMP NOT NULL DEFAULT CURRENT_TIMESTAMP ON UPDATE CURRENT_TIMESTAMP, \n",
      "\tPRIMARY KEY (`photoID`), \n",
      "\tFOREIGN KEY(`gymID`) REFERENCES gyms (`gymID`)\n",
      ")\n",
      "\n",
      "\n",
      "2021-05-11 10:00:50,240 INFO sqlalchemy.engine.Engine [no key 0.00163s] {}\n",
      "2021-05-11 10:00:50,311 INFO sqlalchemy.engine.Engine COMMIT\n"
     ]
    }
   ],
   "source": [
    "metadata.create_all(engine)"
   ]
  },
  {
   "cell_type": "code",
   "execution_count": 120,
   "id": "6b925bcf",
   "metadata": {},
   "outputs": [],
   "source": [
    "class Gym(Base):\n",
    "    __table__ = gyms_table\n",
    "    \n",
    "    photo = relationship(\"Photo\", back_populates=\"gym\")\n",
    "    \n",
    "    def __repr__(self):\n",
    "        return f\"Gym({self.gymID!r}, {self.gymName!r}, {self.gymNameFromGoogle!r}, {self.gymAddress!r},  {self.locLatitude!r}, {self.locLongitude}, {self.ratingFromMP!r}, {self.googlePlaceID!r}, {self.lastUpdated!r})\"\n",
    "    \n",
    "class Photo(Base):\n",
    "    __table__ = photos_table\n",
    "    \n",
    "    gym = relationship(\"Gym\", back_populates=\"photo\")\n",
    "    \n",
    "    def __repr__(self):\n",
    "        return f\"Photo({self.photoID!r}, {self.gymID!r}, {self.photoGoogleReference!r}, {self.photoURL!r}, {self.lastUpdated!r})\""
   ]
  },
  {
   "cell_type": "code",
   "execution_count": 121,
   "id": "94213921",
   "metadata": {},
   "outputs": [],
   "source": [
    "fakeGym = Gym(gymName = \"phoneyName\", gymAddress = \"Nowhere\")\n",
    "fakePhoto = Photo(photoURL = \"fakeurl.fake/photo\", gym = fakeGym)"
   ]
  },
  {
   "cell_type": "code",
   "execution_count": 124,
   "id": "738af320",
   "metadata": {},
   "outputs": [
    {
     "data": {
      "text/plain": [
       "Gym(None, 'phoneyName', None, 'Nowhere',  None, None, None, None, None)"
      ]
     },
     "execution_count": 124,
     "metadata": {},
     "output_type": "execute_result"
    }
   ],
   "source": [
    "fakePhoto.gym"
   ]
  },
  {
   "cell_type": "code",
   "execution_count": 123,
   "id": "204d308f",
   "metadata": {},
   "outputs": [],
   "source": [
    "session = Session(engine)"
   ]
  },
  {
   "cell_type": "code",
   "execution_count": 125,
   "id": "f053c8ef",
   "metadata": {},
   "outputs": [],
   "source": [
    "session.add(fakeGym)"
   ]
  },
  {
   "cell_type": "code",
   "execution_count": 127,
   "id": "1ace5329",
   "metadata": {},
   "outputs": [
    {
     "data": {
      "text/plain": [
       "True"
      ]
     },
     "execution_count": 127,
     "metadata": {},
     "output_type": "execute_result"
    }
   ],
   "source": [
    "fakePhoto in session"
   ]
  },
  {
   "cell_type": "code",
   "execution_count": 128,
   "id": "4c2c2bca",
   "metadata": {},
   "outputs": [
    {
     "name": "stdout",
     "output_type": "stream",
     "text": [
      "2021-05-11 10:24:32,617 INFO sqlalchemy.engine.Engine BEGIN (implicit)\n",
      "2021-05-11 10:24:32,625 INFO sqlalchemy.engine.Engine INSERT INTO gyms (`gymName`, `gymNameFromGoogle`, `gymAddress`, `locLatitude`, `locLongitude`, `ratingFromMP`, `googlePlaceID`) VALUES (%(gymName)s, %(gymNameFromGoogle)s, %(gymAddress)s, %(locLatitude)s, %(locLongitude)s, %(ratingFromMP)s, %(googlePlaceID)s)\n",
      "2021-05-11 10:24:32,627 INFO sqlalchemy.engine.Engine [generated in 0.00216s] {'gymName': 'phoneyName', 'gymNameFromGoogle': None, 'gymAddress': 'Nowhere', 'locLatitude': None, 'locLongitude': None, 'ratingFromMP': None, 'googlePlaceID': None}\n",
      "2021-05-11 10:24:32,666 INFO sqlalchemy.engine.Engine INSERT INTO photos (`gymID`, `photoGoogleReference`, `photoURL`) VALUES (%(gymID)s, %(photoGoogleReference)s, %(photoURL)s)\n",
      "2021-05-11 10:24:32,668 INFO sqlalchemy.engine.Engine [generated in 0.00174s] {'gymID': 1, 'photoGoogleReference': None, 'photoURL': 'fakeurl.fake/photo'}\n"
     ]
    }
   ],
   "source": [
    "session.flush()"
   ]
  },
  {
   "cell_type": "code",
   "execution_count": 131,
   "id": "5fc48cf9",
   "metadata": {},
   "outputs": [
    {
     "name": "stdout",
     "output_type": "stream",
     "text": [
      "2021-05-11 10:24:56,314 INFO sqlalchemy.engine.Engine COMMIT\n"
     ]
    }
   ],
   "source": [
    "session.commit()"
   ]
  },
  {
   "cell_type": "code",
   "execution_count": null,
   "id": "6ba50f6d",
   "metadata": {},
   "outputs": [],
   "source": []
  }
 ],
 "metadata": {
  "kernelspec": {
   "display_name": "Python 3",
   "language": "python",
   "name": "python3"
  },
  "language_info": {
   "codemirror_mode": {
    "name": "ipython",
    "version": 3
   },
   "file_extension": ".py",
   "mimetype": "text/x-python",
   "name": "python",
   "nbconvert_exporter": "python",
   "pygments_lexer": "ipython3",
   "version": "3.8.8"
  }
 },
 "nbformat": 4,
 "nbformat_minor": 5
}
