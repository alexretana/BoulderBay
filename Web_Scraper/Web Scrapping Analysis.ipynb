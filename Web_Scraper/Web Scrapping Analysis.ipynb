{
 "cells": [
  {
   "cell_type": "markdown",
   "id": "c6ce28f7",
   "metadata": {},
   "source": [
    "# Web Scrapping Analysis\n",
    "\n",
    "This notebook walks through the process of pulling, merging, and cleaning various datasets about climbing gyms around the US."
   ]
  },
  {
   "cell_type": "code",
   "execution_count": 1,
   "id": "1821d8a4",
   "metadata": {},
   "outputs": [],
   "source": [
    "import requests\n",
    "import pandas"
   ]
  },
  {
   "cell_type": "code",
   "execution_count": 3,
   "id": "e97c6977",
   "metadata": {},
   "outputs": [],
   "source": [
    "mp_url = 'https://www.mountainproject.com/gyms'\n",
    "\n",
    "r = requests.get(mp_url)"
   ]
  },
  {
   "cell_type": "code",
   "execution_count": 15,
   "id": "bb747f8a",
   "metadata": {},
   "outputs": [
    {
     "data": {
      "text/plain": [
       "200"
      ]
     },
     "execution_count": 15,
     "metadata": {},
     "output_type": "execute_result"
    }
   ],
   "source": [
    "r.status_code"
   ]
  },
  {
   "cell_type": "code",
   "execution_count": null,
   "id": "d23c6117",
   "metadata": {},
   "outputs": [],
   "source": []
  }
 ],
 "metadata": {
  "kernelspec": {
   "display_name": "Python 3",
   "language": "python",
   "name": "python3"
  },
  "language_info": {
   "codemirror_mode": {
    "name": "ipython",
    "version": 3
   },
   "file_extension": ".py",
   "mimetype": "text/x-python",
   "name": "python",
   "nbconvert_exporter": "python",
   "pygments_lexer": "ipython3",
   "version": "3.8.8"
  }
 },
 "nbformat": 4,
 "nbformat_minor": 5
}
