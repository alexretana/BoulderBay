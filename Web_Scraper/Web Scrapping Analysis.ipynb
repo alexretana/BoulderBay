{
 "cells": [
  {
   "cell_type": "markdown",
   "id": "c6ce28f7",
   "metadata": {},
   "source": [
    "# Web Scrapping Analysis\n",
    "\n",
    "This notebook walks through the process of pulling, merging, and cleaning various datasets about climbing gyms around the US."
   ]
  },
  {
   "cell_type": "code",
   "execution_count": 1,
   "id": "1821d8a4",
   "metadata": {},
   "outputs": [],
   "source": [
    "import pandas as pd\n",
    "import re\n"
   ]
  },
  {
   "cell_type": "code",
   "execution_count": 2,
   "id": "e97c6977",
   "metadata": {},
   "outputs": [
    {
     "data": {
      "text/html": [
       "<div>\n",
       "<style scoped>\n",
       "    .dataframe tbody tr th:only-of-type {\n",
       "        vertical-align: middle;\n",
       "    }\n",
       "\n",
       "    .dataframe tbody tr th {\n",
       "        vertical-align: top;\n",
       "    }\n",
       "\n",
       "    .dataframe thead th {\n",
       "        text-align: right;\n",
       "    }\n",
       "</style>\n",
       "<table border=\"1\" class=\"dataframe\">\n",
       "  <thead>\n",
       "    <tr style=\"text-align: right;\">\n",
       "      <th></th>\n",
       "      <th>img_list</th>\n",
       "      <th>gym_info</th>\n",
       "    </tr>\n",
       "  </thead>\n",
       "  <tbody>\n",
       "    <tr>\n",
       "      <th>Auburn University Recreation and Well…</th>\n",
       "      <td>[]</td>\n",
       "      <td>[,  601 Heisman Dr, Auburn, AL 36849 ]</td>\n",
       "    </tr>\n",
       "    <tr>\n",
       "      <th>Birmingham Boulders</th>\n",
       "      <td>[https://cdn2.apstatic.com/photos/climb/119942...</td>\n",
       "      <td>[www.boulderingauthority.com,  136 INDUSTRIAL ...</td>\n",
       "    </tr>\n",
       "    <tr>\n",
       "      <th>Campus Recreation Center</th>\n",
       "      <td>[]</td>\n",
       "      <td>[www.uc.edu,  University of Cincinnati, 2820 B...</td>\n",
       "    </tr>\n",
       "    <tr>\n",
       "      <th>Faucett Brothers Activity Center</th>\n",
       "      <td>[]</td>\n",
       "      <td>[www.tcpara.org,  13040 Eugenia Faucett Drive ...</td>\n",
       "    </tr>\n",
       "    <tr>\n",
       "      <th>First Avenue Rocks</th>\n",
       "      <td>[]</td>\n",
       "      <td>[firstaverocks.com,  2417 1st Avenue South, Bi...</td>\n",
       "    </tr>\n",
       "    <tr>\n",
       "      <th>...</th>\n",
       "      <td>...</td>\n",
       "      <td>...</td>\n",
       "    </tr>\n",
       "    <tr>\n",
       "      <th>Elemental Training Center</th>\n",
       "      <td>[]</td>\n",
       "      <td>[lmntl.net,  205 Lincoln St, Lander, Wyoming 8...</td>\n",
       "    </tr>\n",
       "    <tr>\n",
       "      <th>Fall Hall</th>\n",
       "      <td>[]</td>\n",
       "      <td>[ F.E.Warren AFB, Cheyenne, WY ]</td>\n",
       "    </tr>\n",
       "    <tr>\n",
       "      <th>Gottsche Glyphs</th>\n",
       "      <td>[]</td>\n",
       "      <td>[gottsche.org,  148 E. Arapahoe, Thermopolis, ...</td>\n",
       "    </tr>\n",
       "    <tr>\n",
       "      <th>Pinedale Aquatic Center</th>\n",
       "      <td>[https://cdn2.apstatic.com/photos/climb/107748...</td>\n",
       "      <td>[www.pinedaleaquatic.com,  535 N. Tyler Ave., ...</td>\n",
       "    </tr>\n",
       "    <tr>\n",
       "      <th>The Rock</th>\n",
       "      <td>[]</td>\n",
       "      <td>[www.rswy.net,  Rock Springs Civic Center, 410...</td>\n",
       "    </tr>\n",
       "  </tbody>\n",
       "</table>\n",
       "<p>1013 rows × 2 columns</p>\n",
       "</div>"
      ],
      "text/plain": [
       "                                                                                 img_list  \\\n",
       "Auburn University Recreation and Well…                                                 []   \n",
       "Birmingham Boulders                     [https://cdn2.apstatic.com/photos/climb/119942...   \n",
       "Campus Recreation Center                                                               []   \n",
       "Faucett Brothers Activity Center                                                       []   \n",
       "First Avenue Rocks                                                                     []   \n",
       "...                                                                                   ...   \n",
       "Elemental Training Center                                                              []   \n",
       "Fall Hall                                                                              []   \n",
       "Gottsche Glyphs                                                                        []   \n",
       "Pinedale Aquatic Center                 [https://cdn2.apstatic.com/photos/climb/107748...   \n",
       "The Rock                                                                               []   \n",
       "\n",
       "                                                                                 gym_info  \n",
       "Auburn University Recreation and Well…             [,  601 Heisman Dr, Auburn, AL 36849 ]  \n",
       "Birmingham Boulders                     [www.boulderingauthority.com,  136 INDUSTRIAL ...  \n",
       "Campus Recreation Center                [www.uc.edu,  University of Cincinnati, 2820 B...  \n",
       "Faucett Brothers Activity Center        [www.tcpara.org,  13040 Eugenia Faucett Drive ...  \n",
       "First Avenue Rocks                      [firstaverocks.com,  2417 1st Avenue South, Bi...  \n",
       "...                                                                                   ...  \n",
       "Elemental Training Center               [lmntl.net,  205 Lincoln St, Lander, Wyoming 8...  \n",
       "Fall Hall                                                [ F.E.Warren AFB, Cheyenne, WY ]  \n",
       "Gottsche Glyphs                         [gottsche.org,  148 E. Arapahoe, Thermopolis, ...  \n",
       "Pinedale Aquatic Center                 [www.pinedaleaquatic.com,  535 N. Tyler Ave., ...  \n",
       "The Rock                                [www.rswy.net,  Rock Springs Civic Center, 410...  \n",
       "\n",
       "[1013 rows x 2 columns]"
      ]
     },
     "execution_count": 2,
     "metadata": {},
     "output_type": "execute_result"
    }
   ],
   "source": [
    "df = pd.read_json('data.json', orient='index')\n",
    "\n",
    "df"
   ]
  },
  {
   "cell_type": "code",
   "execution_count": 3,
   "id": "bb747f8a",
   "metadata": {},
   "outputs": [
    {
     "data": {
      "text/plain": [
       "1013"
      ]
     },
     "execution_count": 3,
     "metadata": {},
     "output_type": "execute_result"
    }
   ],
   "source": [
    "len(df)"
   ]
  },
  {
   "cell_type": "code",
   "execution_count": 4,
   "id": "d23c6117",
   "metadata": {},
   "outputs": [],
   "source": [
    "df['NumberOfImages'] = df.img_list.map(len)"
   ]
  },
  {
   "cell_type": "code",
   "execution_count": 5,
   "id": "62d6fed0",
   "metadata": {},
   "outputs": [],
   "source": [
    "regex = r'[A-Za-z0-9]+[A-Za-z0-9\\-\\.][A-Za-z0-9]+\\.\\w{1,4}'\n",
    "def extractSiteURLFromGymInfo(gym_info: list):\n",
    "\n",
    "    for item in gym_info:\n",
    "#         print(item)\n",
    "        gymSiteURL = re.search(regex, item)\n",
    "        if gymSiteURL is not None:\n",
    "            return gymSiteURL[0]\n",
    "\n",
    "    return None"
   ]
  },
  {
   "cell_type": "code",
   "execution_count": 6,
   "id": "f5d1e14d",
   "metadata": {
    "scrolled": false
   },
   "outputs": [],
   "source": [
    "df['gymURL'] = df.gym_info.map(extractSiteURLFromGymInfo)"
   ]
  },
  {
   "cell_type": "code",
   "execution_count": 7,
   "id": "260c282c",
   "metadata": {},
   "outputs": [
    {
     "data": {
      "text/html": [
       "<div>\n",
       "<style scoped>\n",
       "    .dataframe tbody tr th:only-of-type {\n",
       "        vertical-align: middle;\n",
       "    }\n",
       "\n",
       "    .dataframe tbody tr th {\n",
       "        vertical-align: top;\n",
       "    }\n",
       "\n",
       "    .dataframe thead th {\n",
       "        text-align: right;\n",
       "    }\n",
       "</style>\n",
       "<table border=\"1\" class=\"dataframe\">\n",
       "  <thead>\n",
       "    <tr style=\"text-align: right;\">\n",
       "      <th></th>\n",
       "      <th>img_list</th>\n",
       "      <th>gym_info</th>\n",
       "      <th>NumberOfImages</th>\n",
       "      <th>gymURL</th>\n",
       "    </tr>\n",
       "  </thead>\n",
       "  <tbody>\n",
       "    <tr>\n",
       "      <th>Auburn University Recreation and Well…</th>\n",
       "      <td>[]</td>\n",
       "      <td>[,  601 Heisman Dr, Auburn, AL 36849 ]</td>\n",
       "      <td>0</td>\n",
       "      <td>None</td>\n",
       "    </tr>\n",
       "    <tr>\n",
       "      <th>Birmingham Boulders</th>\n",
       "      <td>[https://cdn2.apstatic.com/photos/climb/119942...</td>\n",
       "      <td>[www.boulderingauthority.com,  136 INDUSTRIAL ...</td>\n",
       "      <td>2</td>\n",
       "      <td>www.boulderingauthority.com</td>\n",
       "    </tr>\n",
       "    <tr>\n",
       "      <th>Campus Recreation Center</th>\n",
       "      <td>[]</td>\n",
       "      <td>[www.uc.edu,  University of Cincinnati, 2820 B...</td>\n",
       "      <td>0</td>\n",
       "      <td>www.uc.edu</td>\n",
       "    </tr>\n",
       "    <tr>\n",
       "      <th>Faucett Brothers Activity Center</th>\n",
       "      <td>[]</td>\n",
       "      <td>[www.tcpara.org,  13040 Eugenia Faucett Drive ...</td>\n",
       "      <td>0</td>\n",
       "      <td>www.tcpara.org</td>\n",
       "    </tr>\n",
       "    <tr>\n",
       "      <th>First Avenue Rocks</th>\n",
       "      <td>[]</td>\n",
       "      <td>[firstaverocks.com,  2417 1st Avenue South, Bi...</td>\n",
       "      <td>0</td>\n",
       "      <td>firstaverocks.com</td>\n",
       "    </tr>\n",
       "    <tr>\n",
       "      <th>...</th>\n",
       "      <td>...</td>\n",
       "      <td>...</td>\n",
       "      <td>...</td>\n",
       "      <td>...</td>\n",
       "    </tr>\n",
       "    <tr>\n",
       "      <th>Elemental Training Center</th>\n",
       "      <td>[]</td>\n",
       "      <td>[lmntl.net,  205 Lincoln St, Lander, Wyoming 8...</td>\n",
       "      <td>0</td>\n",
       "      <td>lmntl.net</td>\n",
       "    </tr>\n",
       "    <tr>\n",
       "      <th>Fall Hall</th>\n",
       "      <td>[]</td>\n",
       "      <td>[ F.E.Warren AFB, Cheyenne, WY ]</td>\n",
       "      <td>0</td>\n",
       "      <td>F.E.Warr</td>\n",
       "    </tr>\n",
       "    <tr>\n",
       "      <th>Gottsche Glyphs</th>\n",
       "      <td>[]</td>\n",
       "      <td>[gottsche.org,  148 E. Arapahoe, Thermopolis, ...</td>\n",
       "      <td>0</td>\n",
       "      <td>gottsche.org</td>\n",
       "    </tr>\n",
       "    <tr>\n",
       "      <th>Pinedale Aquatic Center</th>\n",
       "      <td>[https://cdn2.apstatic.com/photos/climb/107748...</td>\n",
       "      <td>[www.pinedaleaquatic.com,  535 N. Tyler Ave., ...</td>\n",
       "      <td>2</td>\n",
       "      <td>www.pinedaleaquatic.com</td>\n",
       "    </tr>\n",
       "    <tr>\n",
       "      <th>The Rock</th>\n",
       "      <td>[]</td>\n",
       "      <td>[www.rswy.net,  Rock Springs Civic Center, 410...</td>\n",
       "      <td>0</td>\n",
       "      <td>www.rswy.net</td>\n",
       "    </tr>\n",
       "  </tbody>\n",
       "</table>\n",
       "<p>1013 rows × 4 columns</p>\n",
       "</div>"
      ],
      "text/plain": [
       "                                                                                 img_list  \\\n",
       "Auburn University Recreation and Well…                                                 []   \n",
       "Birmingham Boulders                     [https://cdn2.apstatic.com/photos/climb/119942...   \n",
       "Campus Recreation Center                                                               []   \n",
       "Faucett Brothers Activity Center                                                       []   \n",
       "First Avenue Rocks                                                                     []   \n",
       "...                                                                                   ...   \n",
       "Elemental Training Center                                                              []   \n",
       "Fall Hall                                                                              []   \n",
       "Gottsche Glyphs                                                                        []   \n",
       "Pinedale Aquatic Center                 [https://cdn2.apstatic.com/photos/climb/107748...   \n",
       "The Rock                                                                               []   \n",
       "\n",
       "                                                                                 gym_info  \\\n",
       "Auburn University Recreation and Well…             [,  601 Heisman Dr, Auburn, AL 36849 ]   \n",
       "Birmingham Boulders                     [www.boulderingauthority.com,  136 INDUSTRIAL ...   \n",
       "Campus Recreation Center                [www.uc.edu,  University of Cincinnati, 2820 B...   \n",
       "Faucett Brothers Activity Center        [www.tcpara.org,  13040 Eugenia Faucett Drive ...   \n",
       "First Avenue Rocks                      [firstaverocks.com,  2417 1st Avenue South, Bi...   \n",
       "...                                                                                   ...   \n",
       "Elemental Training Center               [lmntl.net,  205 Lincoln St, Lander, Wyoming 8...   \n",
       "Fall Hall                                                [ F.E.Warren AFB, Cheyenne, WY ]   \n",
       "Gottsche Glyphs                         [gottsche.org,  148 E. Arapahoe, Thermopolis, ...   \n",
       "Pinedale Aquatic Center                 [www.pinedaleaquatic.com,  535 N. Tyler Ave., ...   \n",
       "The Rock                                [www.rswy.net,  Rock Springs Civic Center, 410...   \n",
       "\n",
       "                                        NumberOfImages  \\\n",
       "Auburn University Recreation and Well…               0   \n",
       "Birmingham Boulders                                  2   \n",
       "Campus Recreation Center                             0   \n",
       "Faucett Brothers Activity Center                     0   \n",
       "First Avenue Rocks                                   0   \n",
       "...                                                ...   \n",
       "Elemental Training Center                            0   \n",
       "Fall Hall                                            0   \n",
       "Gottsche Glyphs                                      0   \n",
       "Pinedale Aquatic Center                              2   \n",
       "The Rock                                             0   \n",
       "\n",
       "                                                             gymURL  \n",
       "Auburn University Recreation and Well…                         None  \n",
       "Birmingham Boulders                     www.boulderingauthority.com  \n",
       "Campus Recreation Center                                 www.uc.edu  \n",
       "Faucett Brothers Activity Center                     www.tcpara.org  \n",
       "First Avenue Rocks                                firstaverocks.com  \n",
       "...                                                             ...  \n",
       "Elemental Training Center                                 lmntl.net  \n",
       "Fall Hall                                                  F.E.Warr  \n",
       "Gottsche Glyphs                                        gottsche.org  \n",
       "Pinedale Aquatic Center                     www.pinedaleaquatic.com  \n",
       "The Rock                                               www.rswy.net  \n",
       "\n",
       "[1013 rows x 4 columns]"
      ]
     },
     "execution_count": 7,
     "metadata": {},
     "output_type": "execute_result"
    }
   ],
   "source": [
    "df"
   ]
  },
  {
   "cell_type": "code",
   "execution_count": 13,
   "id": "1ca5097e",
   "metadata": {},
   "outputs": [
    {
     "data": {
      "text/plain": [
       "Auburn University Recreation and Well…               [,  601 Heisman Dr, Auburn, AL 36849 ]\n",
       "Birmingham Boulders                       [www.boulderingauthority.com,  136 INDUSTRIAL ...\n",
       "Campus Recreation Center                  [www.uc.edu,  University of Cincinnati, 2820 B...\n",
       "Faucett Brothers Activity Center          [www.tcpara.org,  13040 Eugenia Faucett Drive ...\n",
       "First Avenue Rocks                        [firstaverocks.com,  2417 1st Avenue South, Bi...\n",
       "                                                                ...                        \n",
       "Elemental Training Center                 [lmntl.net,  205 Lincoln St, Lander, Wyoming 8...\n",
       "Fall Hall                                                  [ F.E.Warren AFB, Cheyenne, WY ]\n",
       "Gottsche Glyphs                           [gottsche.org,  148 E. Arapahoe, Thermopolis, ...\n",
       "Pinedale Aquatic Center                   [www.pinedaleaquatic.com,  535 N. Tyler Ave., ...\n",
       "The Rock                                  [www.rswy.net,  Rock Springs Civic Center, 410...\n",
       "Name: gym_info, Length: 1013, dtype: object"
      ]
     },
     "execution_count": 13,
     "metadata": {},
     "output_type": "execute_result"
    }
   ],
   "source": [
    "df['gym_info']"
   ]
  },
  {
   "cell_type": "code",
   "execution_count": 14,
   "id": "70596ea8",
   "metadata": {},
   "outputs": [
    {
     "ename": "NameError",
     "evalue": "name 'series' is not defined",
     "output_type": "error",
     "traceback": [
      "\u001b[1;31m---------------------------------------------------------------------------\u001b[0m",
      "\u001b[1;31mNameError\u001b[0m                                 Traceback (most recent call last)",
      "\u001b[1;32m<ipython-input-14-98929e4ea1f6>\u001b[0m in \u001b[0;36m<module>\u001b[1;34m\u001b[0m\n\u001b[1;32m----> 1\u001b[1;33m \u001b[0mseries\u001b[0m\u001b[1;33m.\u001b[0m\u001b[0mmap\u001b[0m\u001b[1;33m(\u001b[0m\u001b[0mfunc\u001b[0m\u001b[1;33m)\u001b[0m\u001b[1;33m\u001b[0m\u001b[1;33m\u001b[0m\u001b[0m\n\u001b[0m",
      "\u001b[1;31mNameError\u001b[0m: name 'series' is not defined"
     ]
    }
   ],
   "source": [
    "series.map(func)"
   ]
  },
  {
   "cell_type": "code",
   "execution_count": null,
   "id": "0c9b3059",
   "metadata": {},
   "outputs": [],
   "source": [
    "df['gym_info'].map()"
   ]
  },
  {
   "cell_type": "code",
   "execution_count": 25,
   "id": "e0883dc9",
   "metadata": {},
   "outputs": [
    {
     "data": {
      "text/plain": [
       "                                                                         46\n",
       " 2220 N Commerce St, Milwaukee, WI 53212                                  2\n",
       " 3116 Olympic Way #B, Auburn, California 95603                            1\n",
       " St. Lawrence University, Canton, New York 13617                          1\n",
       " 979 Springdale Rd #150, Austin, TX 78702                                 1\n",
       "                                                                         ..\n",
       " 357 Robe River Dr, Valdez, AK 99686                                      1\n",
       " 5045 Grant St, Sioux Falls, SD 57110                                     1\n",
       " 222 Yale Ave. North, Seattle, Washington 98109-5429, (206) 223-1944      1\n",
       " 18120 Harwood Avenue, Homewood, Illinois 60430                           1\n",
       " 528 S Woodland Blvd, DeLand, FL 32720                                    1\n",
       "Name: gym_info, Length: 967, dtype: int64"
      ]
     },
     "execution_count": 25,
     "metadata": {},
     "output_type": "execute_result"
    }
   ],
   "source": [
    "def getSecondItem(gym_info: list):\n",
    "    try:\n",
    "        return gym_info[1]\n",
    "    except:\n",
    "        return \"\"\n",
    "\n",
    "df['gym_info'].map(getSecondItem).value_counts()"
   ]
  },
  {
   "cell_type": "code",
   "execution_count": 26,
   "id": "6de15f26",
   "metadata": {},
   "outputs": [
    {
     "data": {
      "text/plain": [
       "1013"
      ]
     },
     "execution_count": 26,
     "metadata": {},
     "output_type": "execute_result"
    }
   ],
   "source": [
    "len(df)"
   ]
  },
  {
   "cell_type": "code",
   "execution_count": null,
   "id": "e36011b0",
   "metadata": {},
   "outputs": [],
   "source": []
  }
 ],
 "metadata": {
  "kernelspec": {
   "display_name": "Python 3",
   "language": "python",
   "name": "python3"
  },
  "language_info": {
   "codemirror_mode": {
    "name": "ipython",
    "version": 3
   },
   "file_extension": ".py",
   "mimetype": "text/x-python",
   "name": "python",
   "nbconvert_exporter": "python",
   "pygments_lexer": "ipython3",
   "version": "3.7.6"
  }
 },
 "nbformat": 4,
 "nbformat_minor": 5
}
