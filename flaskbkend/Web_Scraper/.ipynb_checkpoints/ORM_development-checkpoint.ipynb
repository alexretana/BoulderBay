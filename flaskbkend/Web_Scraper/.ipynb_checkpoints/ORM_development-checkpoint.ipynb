{
 "cells": [
  {
   "cell_type": "code",
   "execution_count": 1,
   "id": "0bf15d4c",
   "metadata": {},
   "outputs": [],
   "source": [
    "from sqlalchemy import create_engine\n",
    "from key import DB_USER, DB_PASSWORD, DB_ENDPOINT"
   ]
  },
  {
   "cell_type": "code",
   "execution_count": 2,
   "id": "1f24ae36",
   "metadata": {},
   "outputs": [],
   "source": [
    "#assign import secret values to varibles\n",
    "user = DB_USER\n",
    "pwd = DB_PASSWORD\n",
    "endpoint = DB_ENDPOINT\n",
    "\n",
    "#create url for engin\n",
    "dialect = f\"mysql+pymysql://{user}:{pwd}@{endpoint}\"\n",
    "\n",
    "#create engin\n",
    "engine = create_engine(dialect, echo = True, future=True)"
   ]
  },
  {
   "cell_type": "code",
   "execution_count": 6,
   "id": "02b8d9c7",
   "metadata": {},
   "outputs": [
    {
     "name": "stdout",
     "output_type": "stream",
     "text": [
      "2021-05-07 09:04:23,861 INFO sqlalchemy.engine.Engine BEGIN (implicit)\n",
      "2021-05-07 09:04:23,862 INFO sqlalchemy.engine.Engine select 'hello world'\n",
      "2021-05-07 09:04:23,863 INFO sqlalchemy.engine.Engine [generated in 0.00239s] {}\n",
      "[('hello world',)]\n",
      "2021-05-07 09:04:23,893 INFO sqlalchemy.engine.Engine ROLLBACK\n"
     ]
    }
   ],
   "source": [
    "from sqlalchemy import text\n",
    "\n",
    "with engine.connect() as conn:\n",
    "    result = conn.execute(text(\"select 'hello world'\"))\n",
    "    print(result.all())"
   ]
  },
  {
   "cell_type": "code",
   "execution_count": 10,
   "id": "2e1a2168",
   "metadata": {},
   "outputs": [
    {
     "name": "stdout",
     "output_type": "stream",
     "text": [
      "2021-05-07 09:28:49,381 INFO sqlalchemy.engine.Engine BEGIN (implicit)\n",
      "2021-05-07 09:28:49,382 INFO sqlalchemy.engine.Engine USE RockClimbingGyms\n",
      "2021-05-07 09:28:49,383 INFO sqlalchemy.engine.Engine [generated in 0.00165s] {}\n",
      "2021-05-07 09:28:49,416 INFO sqlalchemy.engine.Engine COMMIT\n"
     ]
    }
   ],
   "source": [
    "with engine.connect() as conn:\n",
    "    conn.execute(\n",
    "        text(\"USE RockClimbingGyms\")\n",
    "    )\n",
    "    conn.commit()\n",
    "    "
   ]
  },
  {
   "cell_type": "code",
   "execution_count": 11,
   "id": "c63d59d9",
   "metadata": {},
   "outputs": [
    {
     "name": "stdout",
     "output_type": "stream",
     "text": [
      "2021-05-07 09:28:56,666 INFO sqlalchemy.engine.Engine BEGIN (implicit)\n",
      "2021-05-07 09:28:56,667 INFO sqlalchemy.engine.Engine CREATE TABLE some_table (x int, y int)\n",
      "2021-05-07 09:28:56,667 INFO sqlalchemy.engine.Engine [cached since 250s ago] {}\n",
      "2021-05-07 09:28:56,805 INFO sqlalchemy.engine.Engine INSERT INTO some_table (x, y) VALUES (%(x)s, %(y)s)\n",
      "2021-05-07 09:28:56,806 INFO sqlalchemy.engine.Engine [generated in 0.00078s] ({'x': 1, 'y': 1}, {'x': 2, 'y': 4})\n",
      "2021-05-07 09:28:56,839 INFO sqlalchemy.engine.Engine COMMIT\n"
     ]
    }
   ],
   "source": [
    "with engine.connect() as conn:\n",
    "    conn.execute(\n",
    "        text(\"CREATE TABLE some_table (x int, y int)\")\n",
    "    )\n",
    "    conn.execute(\n",
    "        text(\"INSERT INTO some_table (x, y) VALUES (:x, :y)\"),\n",
    "             [{\"x\": 1, \"y\": 1}, {\"x\": 2, \"y\": 4}]\n",
    "    )\n",
    "    conn.commit()"
   ]
  },
  {
   "cell_type": "code",
   "execution_count": 12,
   "id": "61c5d59d",
   "metadata": {},
   "outputs": [
    {
     "name": "stdout",
     "output_type": "stream",
     "text": [
      "2021-05-07 09:36:34,620 INFO sqlalchemy.engine.Engine BEGIN (implicit)\n",
      "2021-05-07 09:36:34,621 INFO sqlalchemy.engine.Engine INSERT INTO some_table (x, y) VALUES (%(x)s, %(y)s)\n",
      "2021-05-07 09:36:34,622 INFO sqlalchemy.engine.Engine [cached since 457.8s ago] ({'x': 6, 'y': 8}, {'x': 9, 'y': 10})\n",
      "2021-05-07 09:36:34,652 INFO sqlalchemy.engine.Engine COMMIT\n"
     ]
    }
   ],
   "source": [
    "with engine.begin() as conn:\n",
    "    conn.execute(\n",
    "        text(\"INSERT INTO some_table (x, y) VALUES (:x, :y)\"),\n",
    "             [{\"x\": 6, \"y\": 8}, {\"x\": 9, \"y\": 10}]\n",
    "    )"
   ]
  },
  {
   "cell_type": "code",
   "execution_count": 15,
   "id": "a885e0e7",
   "metadata": {},
   "outputs": [
    {
     "name": "stdout",
     "output_type": "stream",
     "text": [
      "2021-05-07 11:30:15,788 INFO sqlalchemy.engine.Engine BEGIN (implicit)\n",
      "2021-05-07 11:30:15,790 INFO sqlalchemy.engine.Engine UPDATE some_table SET y=%(y)s WHERE x=%(x)s\n",
      "2021-05-07 11:30:15,791 INFO sqlalchemy.engine.Engine [generated in 0.00105s] {'y': 11, 'x': 9}\n",
      "2021-05-07 11:30:15,823 INFO sqlalchemy.engine.Engine COMMIT\n"
     ]
    }
   ],
   "source": [
    "from sqlalchemy.orm import Session\n",
    "\n",
    "stmp = text(\"UPDATE some_table SET y=:y WHERE x=:x\").bindparams(x=9, y=11)\n",
    "with Session(engine) as session:\n",
    "    results = session.execute(stmp)\n",
    "    session.commit()"
   ]
  },
  {
   "cell_type": "code",
   "execution_count": 46,
   "id": "a1de8089",
   "metadata": {},
   "outputs": [],
   "source": [
    "from sqlalchemy import MetaData, Table, Column, Integer, String\n",
    "\n",
    "metadata = MetaData()\n",
    "user_table = Table(\n",
    "    \"user_account\",\n",
    "    metadata,\n",
    "    Column('id', Integer, primary_key=True),\n",
    "    Column('name', String(30)),\n",
    "    Column('fullname', String(80))\n",
    ")"
   ]
  },
  {
   "cell_type": "code",
   "execution_count": 47,
   "id": "161a7a42",
   "metadata": {},
   "outputs": [
    {
     "data": {
      "text/plain": [
       "PrimaryKeyConstraint(Column('id', Integer(), table=<user_account>, primary_key=True, nullable=False))"
      ]
     },
     "execution_count": 47,
     "metadata": {},
     "output_type": "execute_result"
    }
   ],
   "source": [
    "user_table.primary_key"
   ]
  },
  {
   "cell_type": "code",
   "execution_count": 48,
   "id": "ce587ed1",
   "metadata": {},
   "outputs": [],
   "source": [
    "from sqlalchemy import ForeignKey\n",
    "\n",
    "address_table = Table(\n",
    "    \"address\",\n",
    "    metadata,\n",
    "    Column('id', Integer, primary_key=True),\n",
    "    Column('user_id', ForeignKey('user_account.id'), nullable=False),\n",
    "    Column('email_address', String(80), nullable=False)\n",
    ")"
   ]
  },
  {
   "cell_type": "code",
   "execution_count": 49,
   "id": "ad32fd62",
   "metadata": {},
   "outputs": [
    {
     "name": "stdout",
     "output_type": "stream",
     "text": [
      "2021-05-07 15:16:50,062 INFO sqlalchemy.engine.Engine BEGIN (implicit)\n",
      "2021-05-07 15:16:50,063 INFO sqlalchemy.engine.Engine SELECT COUNT(*) FROM information_schema.tables WHERE table_schema = %(table_schema)s AND table_name = %(table_name)s\n",
      "2021-05-07 15:16:50,064 INFO sqlalchemy.engine.Engine [cached since 265.3s ago] {'table_schema': 'None', 'table_name': 'user_account'}\n",
      "2021-05-07 15:16:50,093 INFO sqlalchemy.engine.Engine SELECT COUNT(*) FROM information_schema.tables WHERE table_schema = %(table_schema)s AND table_name = %(table_name)s\n",
      "2021-05-07 15:16:50,094 INFO sqlalchemy.engine.Engine [cached since 265.3s ago] {'table_schema': 'None', 'table_name': 'address'}\n",
      "2021-05-07 15:16:50,126 INFO sqlalchemy.engine.Engine \n",
      "CREATE TABLE user_account (\n",
      "\tid INTEGER NOT NULL AUTO_INCREMENT, \n",
      "\tname VARCHAR(30), \n",
      "\tfullname VARCHAR(80), \n",
      "\tPRIMARY KEY (id)\n",
      ")\n",
      "\n",
      "\n",
      "2021-05-07 15:16:50,127 INFO sqlalchemy.engine.Engine [no key 0.00072s] {}\n",
      "2021-05-07 15:16:50,178 INFO sqlalchemy.engine.Engine \n",
      "CREATE TABLE address (\n",
      "\tid INTEGER NOT NULL AUTO_INCREMENT, \n",
      "\tuser_id INTEGER NOT NULL, \n",
      "\temail_address VARCHAR(80) NOT NULL, \n",
      "\tPRIMARY KEY (id), \n",
      "\tFOREIGN KEY(user_id) REFERENCES user_account (id)\n",
      ")\n",
      "\n",
      "\n",
      "2021-05-07 15:16:50,179 INFO sqlalchemy.engine.Engine [no key 0.00106s] {}\n",
      "2021-05-07 15:16:50,238 INFO sqlalchemy.engine.Engine COMMIT\n"
     ]
    }
   ],
   "source": [
    "metadata.create_all(engine)"
   ]
  },
  {
   "cell_type": "code",
   "execution_count": 51,
   "id": "41b46d4c",
   "metadata": {},
   "outputs": [],
   "source": [
    "from sqlalchemy.orm import registry\n",
    "\n",
    "mapper_registry = registry()\n",
    "mapper_registry.metadata\n",
    "\n",
    "Base = mapper_registry.generate_base()"
   ]
  },
  {
   "cell_type": "code",
   "execution_count": 53,
   "id": "d29f5c12",
   "metadata": {},
   "outputs": [],
   "source": [
    "from sqlalchemy.orm import relationship\n",
    "\n",
    "class User(Base):\n",
    "    __table__ = user_table\n",
    "\n",
    "    addresses = relationship(\"Address\", back_populates=\"user\")\n",
    "\n",
    "    def __repr__(self):\n",
    "        return f\"User({self.name!r}, {self.fullname!r})\"\n",
    "\n",
    "class Address(Base):\n",
    "    __table__ = address_table\n",
    "\n",
    "    user = relationship(\"User\", back_populates=\"addresses\")\n",
    "\n",
    "    def __repr__(self):\n",
    "        return f\"Address({self.email_address!r})\"\n"
   ]
  },
  {
   "cell_type": "code",
   "execution_count": null,
   "id": "818bcd59",
   "metadata": {},
   "outputs": [],
   "source": []
  }
 ],
 "metadata": {
  "kernelspec": {
   "display_name": "Python 3",
   "language": "python",
   "name": "python3"
  },
  "language_info": {
   "codemirror_mode": {
    "name": "ipython",
    "version": 3
   },
   "file_extension": ".py",
   "mimetype": "text/x-python",
   "name": "python",
   "nbconvert_exporter": "python",
   "pygments_lexer": "ipython3",
   "version": "3.8.8"
  }
 },
 "nbformat": 4,
 "nbformat_minor": 5
}
